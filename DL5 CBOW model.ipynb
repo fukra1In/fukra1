{
 "cells": [
  {
   "cell_type": "code",
   "execution_count": 1,
   "id": "d6858c66",
   "metadata": {},
   "outputs": [],
   "source": [
    "#5. Implement the Continuous Bag of Words (CBOW) Model\n",
    "#a. Data Preparation \n",
    "#b. Generate training data \n",
    "#c. Train model \n",
    "#d. Output"
   ]
  },
  {
   "cell_type": "code",
   "execution_count": 2,
   "id": "445452ca",
   "metadata": {},
   "outputs": [],
   "source": [
    "import torch\n",
    "import torch.nn as nn"
   ]
  },
  {
   "cell_type": "code",
   "execution_count": 22,
   "id": "4d82cbf6",
   "metadata": {},
   "outputs": [],
   "source": [
    "import tensorflow as tf\n",
    "import numpy as np"
   ]
  },
  {
   "cell_type": "code",
   "execution_count": 23,
   "id": "a6e2d482",
   "metadata": {},
   "outputs": [],
   "source": [
    "# Sample dataset (you should replace this with your own data)\n",
    "corpus = \"this is a sample sentence used for demonstrating cbow model\"\n",
    "corpus = corpus.split()"
   ]
  },
  {
   "cell_type": "code",
   "execution_count": 24,
   "id": "3dadea9d",
   "metadata": {},
   "outputs": [],
   "source": [
    "# Create a vocabulary and mapping from words to indices\n",
    "vocab = {word: idx for idx, word in enumerate(set(corpus))}\n",
    "vocab_size = len(vocab)"
   ]
  },
  {
   "cell_type": "code",
   "execution_count": 25,
   "id": "f24a86f2",
   "metadata": {},
   "outputs": [],
   "source": [
    "# Generate training data\n",
    "window_size = 2\n",
    "context_target_pairs = []\n",
    "\n",
    "for i in range(window_size, len(corpus) - window_size):\n",
    "    context = [corpus[i - j] for j in range(1, window_size + 1)] + [corpus[i + j] for j in range(1, window_size + 1)]\n",
    "    target = corpus[i]\n",
    "    context_target_pairs.append((context, target))"
   ]
  },
  {
   "cell_type": "code",
   "execution_count": 26,
   "id": "cf1a9c0d",
   "metadata": {},
   "outputs": [],
   "source": [
    "# Create one-hot encodings for context and target words\n",
    "def one_hot_encode(word, vocab_size):\n",
    "    one_hot = np.zeros(vocab_size)\n",
    "    one_hot[vocab[word]] = 1\n",
    "    return one_hot\n",
    "\n",
    "X = [np.array([one_hot_encode(word, vocab_size) for word in context]) for context, _ in context_target_pairs]\n",
    "Y = np.array([one_hot_encode(target, vocab_size) for _, target in context_target_pairs])\n"
   ]
  },
  {
   "cell_type": "code",
   "execution_count": 27,
   "id": "f2634d18",
   "metadata": {},
   "outputs": [],
   "source": [
    "# Build a CBOW model using TensorFlow\n",
    "embedding_dim = 50\n",
    "\n",
    "model = tf.keras.Sequential([\n",
    "    tf.keras.layers.Embedding(input_dim=vocab_size, output_dim=embedding_dim, input_length=2 * window_size),\n",
    "    tf.keras.layers.GlobalAveragePooling1D(),\n",
    "    tf.keras.layers.Dense(vocab_size, activation='softmax')\n",
    "])"
   ]
  },
  {
   "cell_type": "code",
   "execution_count": 28,
   "id": "f2dddd76",
   "metadata": {},
   "outputs": [],
   "source": [
    "# Compile the model\n",
    "model.compile(optimizer='adam', loss='categorical_crossentropy', metrics=['accuracy'])\n"
   ]
  },
  {
   "cell_type": "code",
   "execution_count": 30,
   "id": "fb990b88",
   "metadata": {},
   "outputs": [
    {
     "name": "stdout",
     "output_type": "stream",
     "text": [
      "Epoch 1/100\n"
     ]
    },
    {
     "ename": "ValueError",
     "evalue": "in user code:\n\n    File \"D:\\Users\\admin\\anaconda3\\Lib\\site-packages\\keras\\src\\engine\\training.py\", line 1377, in train_function  *\n        return step_function(self, iterator)\n    File \"D:\\Users\\admin\\anaconda3\\Lib\\site-packages\\keras\\src\\engine\\training.py\", line 1360, in step_function  **\n        outputs = model.distribute_strategy.run(run_step, args=(data,))\n    File \"D:\\Users\\admin\\anaconda3\\Lib\\site-packages\\keras\\src\\engine\\training.py\", line 1349, in run_step  **\n        outputs = model.train_step(data)\n    File \"D:\\Users\\admin\\anaconda3\\Lib\\site-packages\\keras\\src\\engine\\training.py\", line 1126, in train_step\n        y_pred = self(x, training=True)\n    File \"D:\\Users\\admin\\anaconda3\\Lib\\site-packages\\keras\\src\\utils\\traceback_utils.py\", line 70, in error_handler\n        raise e.with_traceback(filtered_tb) from None\n    File \"D:\\Users\\admin\\anaconda3\\Lib\\site-packages\\keras\\src\\engine\\input_spec.py\", line 235, in assert_input_compatibility\n        raise ValueError(\n\n    ValueError: Exception encountered when calling layer 'sequential' (type Sequential).\n    \n    Input 0 of layer \"global_average_pooling1d\" is incompatible with the layer: expected ndim=3, found ndim=4. Full shape received: (None, 4, 10, 50)\n    \n    Call arguments received by layer 'sequential' (type Sequential):\n      • inputs=tf.Tensor(shape=(None, 4, 10), dtype=float32)\n      • training=True\n      • mask=None\n",
     "output_type": "error",
     "traceback": [
      "\u001b[1;31m---------------------------------------------------------------------------\u001b[0m",
      "\u001b[1;31mValueError\u001b[0m                                Traceback (most recent call last)",
      "Cell \u001b[1;32mIn[30], line 2\u001b[0m\n\u001b[0;32m      1\u001b[0m \u001b[38;5;66;03m# Train the model\u001b[39;00m\n\u001b[1;32m----> 2\u001b[0m model\u001b[38;5;241m.\u001b[39mfit(np\u001b[38;5;241m.\u001b[39marray(X), Y, epochs\u001b[38;5;241m=\u001b[39m\u001b[38;5;241m100\u001b[39m)\n",
      "File \u001b[1;32mD:\\Users\\admin\\anaconda3\\Lib\\site-packages\\keras\\src\\utils\\traceback_utils.py:70\u001b[0m, in \u001b[0;36mfilter_traceback.<locals>.error_handler\u001b[1;34m(*args, **kwargs)\u001b[0m\n\u001b[0;32m     67\u001b[0m     filtered_tb \u001b[38;5;241m=\u001b[39m _process_traceback_frames(e\u001b[38;5;241m.\u001b[39m__traceback__)\n\u001b[0;32m     68\u001b[0m     \u001b[38;5;66;03m# To get the full stack trace, call:\u001b[39;00m\n\u001b[0;32m     69\u001b[0m     \u001b[38;5;66;03m# `tf.debugging.disable_traceback_filtering()`\u001b[39;00m\n\u001b[1;32m---> 70\u001b[0m     \u001b[38;5;28;01mraise\u001b[39;00m e\u001b[38;5;241m.\u001b[39mwith_traceback(filtered_tb) \u001b[38;5;28;01mfrom\u001b[39;00m \u001b[38;5;28;01mNone\u001b[39;00m\n\u001b[0;32m     71\u001b[0m \u001b[38;5;28;01mfinally\u001b[39;00m:\n\u001b[0;32m     72\u001b[0m     \u001b[38;5;28;01mdel\u001b[39;00m filtered_tb\n",
      "File \u001b[1;32m~\\AppData\\Local\\Temp\\__autograph_generated_file5p3qq72j.py:15\u001b[0m, in \u001b[0;36mouter_factory.<locals>.inner_factory.<locals>.tf__train_function\u001b[1;34m(iterator)\u001b[0m\n\u001b[0;32m     13\u001b[0m \u001b[38;5;28;01mtry\u001b[39;00m:\n\u001b[0;32m     14\u001b[0m     do_return \u001b[38;5;241m=\u001b[39m \u001b[38;5;28;01mTrue\u001b[39;00m\n\u001b[1;32m---> 15\u001b[0m     retval_ \u001b[38;5;241m=\u001b[39m ag__\u001b[38;5;241m.\u001b[39mconverted_call(ag__\u001b[38;5;241m.\u001b[39mld(step_function), (ag__\u001b[38;5;241m.\u001b[39mld(\u001b[38;5;28mself\u001b[39m), ag__\u001b[38;5;241m.\u001b[39mld(iterator)), \u001b[38;5;28;01mNone\u001b[39;00m, fscope)\n\u001b[0;32m     16\u001b[0m \u001b[38;5;28;01mexcept\u001b[39;00m:\n\u001b[0;32m     17\u001b[0m     do_return \u001b[38;5;241m=\u001b[39m \u001b[38;5;28;01mFalse\u001b[39;00m\n",
      "\u001b[1;31mValueError\u001b[0m: in user code:\n\n    File \"D:\\Users\\admin\\anaconda3\\Lib\\site-packages\\keras\\src\\engine\\training.py\", line 1377, in train_function  *\n        return step_function(self, iterator)\n    File \"D:\\Users\\admin\\anaconda3\\Lib\\site-packages\\keras\\src\\engine\\training.py\", line 1360, in step_function  **\n        outputs = model.distribute_strategy.run(run_step, args=(data,))\n    File \"D:\\Users\\admin\\anaconda3\\Lib\\site-packages\\keras\\src\\engine\\training.py\", line 1349, in run_step  **\n        outputs = model.train_step(data)\n    File \"D:\\Users\\admin\\anaconda3\\Lib\\site-packages\\keras\\src\\engine\\training.py\", line 1126, in train_step\n        y_pred = self(x, training=True)\n    File \"D:\\Users\\admin\\anaconda3\\Lib\\site-packages\\keras\\src\\utils\\traceback_utils.py\", line 70, in error_handler\n        raise e.with_traceback(filtered_tb) from None\n    File \"D:\\Users\\admin\\anaconda3\\Lib\\site-packages\\keras\\src\\engine\\input_spec.py\", line 235, in assert_input_compatibility\n        raise ValueError(\n\n    ValueError: Exception encountered when calling layer 'sequential' (type Sequential).\n    \n    Input 0 of layer \"global_average_pooling1d\" is incompatible with the layer: expected ndim=3, found ndim=4. Full shape received: (None, 4, 10, 50)\n    \n    Call arguments received by layer 'sequential' (type Sequential):\n      • inputs=tf.Tensor(shape=(None, 4, 10), dtype=float32)\n      • training=True\n      • mask=None\n"
     ]
    }
   ],
   "source": [
    "# Train the model\n",
    "model.fit(np.array(X), Y, epochs=100)"
   ]
  },
  {
   "cell_type": "code",
   "execution_count": 31,
   "id": "dd750748",
   "metadata": {},
   "outputs": [],
   "source": [
    "# Get word embeddings\n",
    "word_embeddings = model.layers[0].get_weights()[0]"
   ]
  },
  {
   "cell_type": "code",
   "execution_count": 32,
   "id": "28fba1e0",
   "metadata": {},
   "outputs": [
    {
     "name": "stdout",
     "output_type": "stream",
     "text": [
      "Embedding for 'sample': [-0.01234011  0.03872377 -0.03641571 -0.00686948 -0.03339095 -0.00728011\n",
      " -0.02245841 -0.00052153  0.0085182  -0.02615813  0.04294126  0.04275132\n",
      "  0.04491113 -0.01539428 -0.04518592  0.01615923 -0.00071609  0.01765708\n",
      "  0.04988359  0.04248435 -0.00618159 -0.02731623 -0.01457083  0.031848\n",
      "  0.02377601  0.043187    0.03054989 -0.00537181  0.01722217 -0.04518865\n",
      "  0.01218551  0.048466   -0.01348723  0.02450227 -0.03422014  0.01693748\n",
      " -0.00843277  0.0238534  -0.01360092  0.01733849 -0.0142028   0.03233891\n",
      "  0.01141255  0.04041493  0.00498988 -0.00193939  0.00833908  0.04568601\n",
      "  0.03947895  0.03804081]\n"
     ]
    }
   ],
   "source": [
    "# Now you can use these word embeddings for various NLP tasks\n",
    "\n",
    "# To get the embedding for a specific word (e.g., 'sample'):\n",
    "sample_embedding = word_embeddings[vocab['sample']]\n",
    "print(\"Embedding for 'sample':\", sample_embedding)"
   ]
  },
  {
   "cell_type": "code",
   "execution_count": null,
   "id": "45879bd4",
   "metadata": {},
   "outputs": [],
   "source": []
  }
 ],
 "metadata": {
  "kernelspec": {
   "display_name": "Python 3 (ipykernel)",
   "language": "python",
   "name": "python3"
  },
  "language_info": {
   "codemirror_mode": {
    "name": "ipython",
    "version": 3
   },
   "file_extension": ".py",
   "mimetype": "text/x-python",
   "name": "python",
   "nbconvert_exporter": "python",
   "pygments_lexer": "ipython3",
   "version": "3.11.5"
  }
 },
 "nbformat": 4,
 "nbformat_minor": 5
}
