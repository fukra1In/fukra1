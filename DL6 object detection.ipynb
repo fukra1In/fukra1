{
 "cells": [
  {
   "cell_type": "code",
   "execution_count": 1,
   "id": "3e74c8e7",
   "metadata": {},
   "outputs": [],
   "source": [
    "#6. Object detection using Transfer Learning of CNN architectures\n",
    "#a. Load in a pre-trained CNN model trained on a large dataset \n",
    "#b. Freeze parameters (weights) in model’s lower convolutional layers \n",
    "#c. Add custom classifier with several layers of trainable parameters to model \n",
    "#d. Train classifier layers on training data available for task e. Fine-tune hyper parameters and unfreeze more layers as needed"
   ]
  },
  {
   "cell_type": "code",
   "execution_count": 2,
   "id": "8476ad35",
   "metadata": {},
   "outputs": [],
   "source": [
    "import tensorflow as tf\n",
    "from tensorflow.keras.datasets import cifar10\n",
    "from tensorflow.keras.applications import VGG16\n",
    "from tensorflow.keras.models import Sequential\n",
    "from tensorflow.keras.layers import Flatten, Dense\n",
    "from tensorflow.keras.utils import to_categorical"
   ]
  },
  {
   "cell_type": "code",
   "execution_count": 3,
   "id": "300ecda3",
   "metadata": {},
   "outputs": [],
   "source": [
    "# Load CIFAR-10 dataset\n",
    "(itrain, ltrain), (itest, ltest) = cifar10.load_data()"
   ]
  },
  {
   "cell_type": "code",
   "execution_count": 4,
   "id": "f7d7d71e",
   "metadata": {},
   "outputs": [],
   "source": [
    "# Preprocess the data\n",
    "itrain = itrain / 255.0\n",
    "itest = itest / 255.0\n",
    "ltrain = to_categorical(ltrain)\n",
    "ltest = to_categorical(ltest)"
   ]
  },
  {
   "cell_type": "code",
   "execution_count": 5,
   "id": "56cd394e",
   "metadata": {},
   "outputs": [
    {
     "name": "stdout",
     "output_type": "stream",
     "text": [
      "Downloading data from https://storage.googleapis.com/tensorflow/keras-applications/vgg16/vgg16_weights_tf_dim_ordering_tf_kernels_notop.h5\n",
      "58889256/58889256 [==============================] - 139s 2us/step\n"
     ]
    }
   ],
   "source": [
    "# Load pre-trained VGG16 model (excluding the top fully-connected layers)\n",
    "basem = VGG16(weights='imagenet', include_top=False, input_shape=(32, 32, 3))"
   ]
  },
  {
   "cell_type": "code",
   "execution_count": 6,
   "id": "72c60ddb",
   "metadata": {},
   "outputs": [],
   "source": [
    "# Freeze the pre-trained layers\n",
    "for layer in basem.layers:\n",
    "   layer.trainable = False"
   ]
  },
  {
   "cell_type": "code",
   "execution_count": 7,
   "id": "0339ed63",
   "metadata": {},
   "outputs": [],
   "source": [
    "# Create a new model on top\n",
    "semodel = Sequential()\n",
    "semodel.add(basem)\n",
    "semodel.add(Flatten())\n",
    "semodel.add(Dense(256, activation='relu'))\n",
    "semodel.add(Dense(10, activation='softmax'))  # CIFAR-10 has 10 classes"
   ]
  },
  {
   "cell_type": "code",
   "execution_count": 8,
   "id": "b3dfeed4",
   "metadata": {},
   "outputs": [],
   "source": [
    "# Compile the model\n",
    "semodel.compile(optimizer='adam', loss='categorical_crossentropy', metrics=['accuracy'])"
   ]
  },
  {
   "cell_type": "code",
   "execution_count": 9,
   "id": "bde9098f",
   "metadata": {},
   "outputs": [
    {
     "name": "stdout",
     "output_type": "stream",
     "text": [
      "Epoch 1/10\n",
      "1563/1563 [==============================] - 240s 152ms/step - loss: 1.3454 - accuracy: 0.5277 - val_loss: 1.2509 - val_accuracy: 0.5609\n",
      "Epoch 2/10\n",
      "1563/1563 [==============================] - 222s 142ms/step - loss: 1.1646 - accuracy: 0.5902 - val_loss: 1.1859 - val_accuracy: 0.5874\n",
      "Epoch 3/10\n",
      "1563/1563 [==============================] - 228s 146ms/step - loss: 1.0975 - accuracy: 0.6160 - val_loss: 1.1587 - val_accuracy: 0.5930\n",
      "Epoch 4/10\n",
      "1563/1563 [==============================] - 2581s 2s/step - loss: 1.0498 - accuracy: 0.6331 - val_loss: 1.1237 - val_accuracy: 0.6038\n",
      "Epoch 5/10\n",
      "1563/1563 [==============================] - 352s 225ms/step - loss: 1.0050 - accuracy: 0.6462 - val_loss: 1.1427 - val_accuracy: 0.6013\n",
      "Epoch 6/10\n",
      "1563/1563 [==============================] - 347s 222ms/step - loss: 0.9670 - accuracy: 0.6607 - val_loss: 1.1220 - val_accuracy: 0.6097\n",
      "Epoch 7/10\n",
      "1563/1563 [==============================] - 346s 221ms/step - loss: 0.9322 - accuracy: 0.6724 - val_loss: 1.0993 - val_accuracy: 0.6206\n",
      "Epoch 8/10\n",
      "1563/1563 [==============================] - 347s 222ms/step - loss: 0.8990 - accuracy: 0.6828 - val_loss: 1.0968 - val_accuracy: 0.6209\n",
      "Epoch 9/10\n",
      "1563/1563 [==============================] - 348s 223ms/step - loss: 0.8681 - accuracy: 0.6959 - val_loss: 1.1100 - val_accuracy: 0.6188\n",
      "Epoch 10/10\n",
      "1563/1563 [==============================] - 347s 222ms/step - loss: 0.8375 - accuracy: 0.7065 - val_loss: 1.1116 - val_accuracy: 0.6221\n"
     ]
    },
    {
     "data": {
      "text/plain": [
       "<keras.src.callbacks.History at 0x1e1a935aed0>"
      ]
     },
     "execution_count": 9,
     "metadata": {},
     "output_type": "execute_result"
    }
   ],
   "source": [
    "# Train the model\n",
    "semodel.fit(itrain, ltrain, epochs=10, batch_size=32, validation_data=(itest, ltest))"
   ]
  },
  {
   "cell_type": "code",
   "execution_count": 10,
   "id": "7089640e",
   "metadata": {},
   "outputs": [
    {
     "name": "stdout",
     "output_type": "stream",
     "text": [
      "313/313 [==============================] - 58s 184ms/step - loss: 1.1116 - accuracy: 0.6221\n",
      "Test accuracy: 0.6220999956130981\n"
     ]
    }
   ],
   "source": [
    "# Evaluate the model on test data\n",
    "ltest, atest = semodel.evaluate(itest, ltest)\n",
    "print(\"Test accuracy:\", atest)"
   ]
  },
  {
   "cell_type": "code",
   "execution_count": null,
   "id": "c39a6e14",
   "metadata": {},
   "outputs": [],
   "source": [
    "#In the above example, we first loaded the CIFAR-10 dataset and preprocessed the data by normalizing the pixel values and one-hot encoding the labels. Then, we load the pre-trained VGG16 model and freeze its layers. We have created a new model on top, consisting of the base model, a flatten layer, a dense layer with ReLU activation, and a dense layer with softmax activation for classification."
   ]
  }
 ],
 "metadata": {
  "kernelspec": {
   "display_name": "Python 3 (ipykernel)",
   "language": "python",
   "name": "python3"
  },
  "language_info": {
   "codemirror_mode": {
    "name": "ipython",
    "version": 3
   },
   "file_extension": ".py",
   "mimetype": "text/x-python",
   "name": "python",
   "nbconvert_exporter": "python",
   "pygments_lexer": "ipython3",
   "version": "3.11.5"
  }
 },
 "nbformat": 4,
 "nbformat_minor": 5
}
